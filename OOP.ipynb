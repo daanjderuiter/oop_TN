{
 "cells": [
  {
   "cell_type": "markdown",
   "metadata": {
    "slideshow": {
     "slide_type": "slide"
    }
   },
   "source": [
    "# Object oriented programming in Python\n",
    "![title](http://www.tutorialink.com/img/cpp/oop-paradigm.png)"
   ]
  },
  {
   "cell_type": "markdown",
   "metadata": {
    "slideshow": {
     "slide_type": "slide"
    }
   },
   "source": [
    "# What is object oriented programming (OOP)?"
   ]
  },
  {
   "cell_type": "markdown",
   "metadata": {
    "slideshow": {
     "slide_type": "subslide"
    }
   },
   "source": [
    "Organizing code into logical units (objects).\n",
    "\n",
    "Models relations between data and functionality."
   ]
  },
  {
   "cell_type": "markdown",
   "metadata": {
    "slideshow": {
     "slide_type": "slide"
    }
   },
   "source": [
    "# Why OOP?\n",
    "* Useful abstraction\n",
    "* Maintainable code\n",
    "* Extensible code"
   ]
  },
  {
   "cell_type": "markdown",
   "metadata": {
    "slideshow": {
     "slide_type": "slide"
    }
   },
   "source": [
    "# Objects\n",
    "Fundamental piece of data.\n",
    "\n",
    "Contains data and functions that operate on that data.\n",
    "\n",
    "Any variable in Python is actually an object.\n",
    "\n",
    "Conventionally:\n",
    "* Data in objects -> attributes/fields/members\n",
    "* Functions in objects -> methods"
   ]
  },
  {
   "cell_type": "markdown",
   "metadata": {
    "slideshow": {
     "slide_type": "slide"
    }
   },
   "source": [
    "# Classes\n",
    "Blueprint for creating objects.\n",
    "\n",
    "An object is an *instance* of a class.\n",
    "\n",
    "One class can have multiple objects, like types can have many associated variables.\n",
    "\n",
    "Example: one cat class may exist, but multiple cats may exist."
   ]
  },
  {
   "cell_type": "markdown",
   "metadata": {
    "slideshow": {
     "slide_type": "subslide"
    }
   },
   "source": [
    "## Parts of a class"
   ]
  },
  {
   "cell_type": "code",
   "execution_count": 1,
   "metadata": {
    "slideshow": {
     "slide_type": "fragment"
    }
   },
   "outputs": [
    {
     "data": {
      "text/plain": [
       "'Arago'"
      ]
     },
     "execution_count": 1,
     "metadata": {},
     "output_type": "execute_result"
    }
   ],
   "source": [
    "class Student:\n",
    "    \n",
    "    associations = {\n",
    "        'Applied Physics': 'Arago',\n",
    "        'Computer Science': 'Inter-actief',\n",
    "        'Chemical Engineering': 'alembic' \n",
    "    }\n",
    "    \n",
    "    def __init__(self, name, student_id, programme):\n",
    "        self.name = name\n",
    "        self.student_id = student_id\n",
    "        self.programme = programme\n",
    "        \n",
    "    def study_association(self):\n",
    "        return self.associations[self.programme]\n",
    "        \n",
    "daan = Student('Daan de Ruiter', 's1721372', 'Applied Physics')\n",
    "daan.study_association()"
   ]
  },
  {
   "cell_type": "markdown",
   "metadata": {
    "slideshow": {
     "slide_type": "subslide"
    }
   },
   "source": [
    "## In Java\n",
    "```java\n",
    "import java.util.HashMap;\n",
    "\n",
    "public class Student {\n",
    "\n",
    "\tprivate static HashMap<String, String> associations;\n",
    "\n",
    "\tpublic Student(String name, String student_id, String programme) {\n",
    "\t\tthis.name = name;\n",
    "\t\tthis.student_id = student_id;\n",
    "\t\tthis.programme = programme;\n",
    "\n",
    "\t\tassociations = new HashMap<>();\n",
    "\t\tassociations.put(\"Applied Physics\", \"Arago\");\n",
    "\t\tassociations.put(\"Computer Science\", \"Inter-actief\");\n",
    "\t\tassociations.put(\"Chemical Engineering\", \"alembic\");\n",
    "\t}\n",
    "\n",
    "\tpublic String getAssociation() {\n",
    "\t\treturn this.associations(this.programme);\n",
    "\t}\n",
    "\n",
    "}\n",
    "```"
   ]
  },
  {
   "cell_type": "markdown",
   "metadata": {
    "slideshow": {
     "slide_type": "subslide"
    }
   },
   "source": [
    "## In MatLab\n",
    "```MatLab\n",
    "classdef student\n",
    "  properties (Constant)\n",
    "    associations = struct(...\n",
    "    'Applied Physics', 'Arago', ...\n",
    "    'Computer Science', 'Inter-actief', ...\n",
    "    'Chemical Engineering', 'alembic');\n",
    "  end\n",
    "  \n",
    "  methods\n",
    "    % The constructor\n",
    "    function obj = student(name, student_id, programme)\n",
    "      obj.name = name;\n",
    "      obj.student_id = student_id;\n",
    "      obj.programme = programme;\n",
    "    end\n",
    "    \n",
    "    function a = getAssociation()\n",
    "      a = obj.associations(obj.programme);\n",
    "    end\n",
    "  end\n",
    "  \n",
    "end\n",
    "```"
   ]
  },
  {
   "cell_type": "markdown",
   "metadata": {
    "slideshow": {
     "slide_type": "subslide"
    }
   },
   "source": [
    "## In Rust\n",
    "```rust\n",
    "struct Student {\n",
    "    name: String,\n",
    "    student_id: String,\n",
    "    programme: String,\n",
    "}\n",
    "\n",
    "impl Student {\n",
    "    pub fn new(name: String, student_id: String, programme: String) -> Self {\n",
    "        Self{name, student_id, programme}\n",
    "    }\n",
    "\n",
    "    pub fn association(&self) -> &str {\n",
    "        match self.programme {\n",
    "            \"Applied Physics\" => \"Arago\",\n",
    "            _ => unimplemented!()\n",
    "        }\n",
    "    }\n",
    "}\n",
    "```"
   ]
  },
  {
   "cell_type": "markdown",
   "metadata": {
    "slideshow": {
     "slide_type": "subslide"
    }
   },
   "source": [
    "## In C++\n",
    "```cpp\n",
    "#include <string> \n",
    "#include <unordered_map>\n",
    "using namespace std;\n",
    "\n",
    "class Student {\n",
    "  public:\n",
    "    Student(string name, string student_id, string programme) \n",
    "      : name(move(name)), \n",
    "        student_id(move(student_id)), \n",
    "        programme(move(programme))\n",
    "    {}\n",
    "\n",
    "    string association() {\n",
    "      return associations.at(name);\n",
    "    }\n",
    "\n",
    "  private:\n",
    "    string programme;\n",
    "    string student_id;\n",
    "    string programme;\n",
    "\n",
    "    std::unordered_map<string, string> associations = ...;\n",
    "};\n",
    "```"
   ]
  },
  {
   "cell_type": "markdown",
   "metadata": {
    "slideshow": {
     "slide_type": "notes"
    }
   },
   "source": [
    "* Attributes representing the state of the class\n",
    "* Methods that define actions you can perform on that class\n",
    "* A constructor that is called when you create the object. In Python, it is called `__init__()`."
   ]
  },
  {
   "cell_type": "markdown",
   "metadata": {
    "slideshow": {
     "slide_type": "notes"
    }
   },
   "source": [
    "A class may contain data and code. The data are attributes, like `associations` in the example. The code are methods, like `study_associations` in the example.\n",
    "\n",
    "When accessing its own attributes or methods within a method, the method references the object it is a part of, called the `self` in Python. In Python, as well as some other languages, every method requires that it has at least `self` as an argument, which is the first argument and is not explicitly stated when calling the method.\n",
    "\n",
    "To make your own life easier, please follow Python's naming conventions; classes are named as `MyClass`, methods, functions and variables are named as `my_method`. See also PEP 8 (PEPs are Python Enhancement Proposals).\n",
    "Don't create classes for everyting. If your class has two methods, and one of them is `__init__` (like in this example), then that probably shouldn't be a class. Just create a method instead."
   ]
  },
  {
   "cell_type": "markdown",
   "metadata": {
    "slideshow": {
     "slide_type": "slide"
    }
   },
   "source": [
    "# The pillars of OOP\n",
    "The pillars of OOP are the basic guidelines to designing good OOP code. They are:\n",
    "\n",
    "* Abstraction\n",
    "* Encapsulation\n",
    "* Inheritance\n",
    "* Polymorphism (won't talk about this one)\n",
    "\n",
    "Sounds complicated, let's break them down"
   ]
  },
  {
   "cell_type": "markdown",
   "metadata": {
    "slideshow": {
     "slide_type": "subslide"
    }
   },
   "source": [
    "## Abstraction\n",
    "Hides complicated logic from the user (you!).\n",
    "\n",
    "Allows the user to think about higher level problems.\n",
    "\n",
    "Most basic level of abstraction is a function.\n",
    "\n",
    "Classes allow for more intricate abstraction"
   ]
  },
  {
   "cell_type": "markdown",
   "metadata": {
    "slideshow": {
     "slide_type": "subslide"
    }
   },
   "source": [
    "## Encapsulation\n",
    "Users don't need to know all the data in an object.\n",
    "\n",
    "For instance, a student in a database may have a unique ID that only the system uses.\n",
    "\n",
    "Encapsulation only shows the user what they need to know.\n",
    "\n",
    "Seperates the *implementation* (how it works) from the *interface* (how you use it) "
   ]
  },
  {
   "cell_type": "markdown",
   "metadata": {
    "slideshow": {
     "slide_type": "subslide"
    }
   },
   "source": [
    "## Inheritance\n",
    "We already have a model for a student, how about introducting employees as well?\n",
    "\n",
    "Both students and employees have a name.\n",
    "\n",
    "Only students have e.g. a programme.\n",
    "\n",
    "Only employees have an office."
   ]
  },
  {
   "cell_type": "code",
   "execution_count": null,
   "metadata": {
    "slideshow": {
     "slide_type": "fragment"
    }
   },
   "outputs": [],
   "source": [
    "class Person:\n",
    "    def __init__(self, name, identifier):\n",
    "        self.name = name\n",
    "        self.identifier = identifier\n",
    "    \n",
    "class Student(Person):\n",
    "    def __init__(self, name, student_id, programme):\n",
    "        self.name = name\n",
    "        self.identifier = student_id\n",
    "        self.programme = programme\n",
    "\n",
    "class Employee(Person):\n",
    "    def __init__(self, name, employee_id, office):\n",
    "        super().__init__(name, employee_id)\n",
    "        self.office = office"
   ]
  },
  {
   "cell_type": "markdown",
   "metadata": {
    "slideshow": {
     "slide_type": "slide"
    }
   },
   "source": [
    "# Example: a vector as a class "
   ]
  },
  {
   "cell_type": "code",
   "execution_count": 4,
   "metadata": {
    "slideshow": {
     "slide_type": "subslide"
    }
   },
   "outputs": [],
   "source": [
    "from math import sqrt\n",
    "\n",
    "class Vector:\n",
    "\n",
    "    def __init__(self, x, y, z):\n",
    "        self.x = x\n",
    "        self.y = y\n",
    "        self.z = z\n",
    "\n",
    "    def norm(self):\n",
    "        \"\"\"Returns the norm of the vector\"\"\"\n",
    "        pass\n",
    "\n",
    "    def scale(self, const):\n",
    "        \"\"\"Return a Vector scaled by a constant\"\"\"\n",
    "        pass\n",
    "\n",
    "    def normalized(self):\n",
    "        \"\"\"Return the Vector, but normalized\"\"\"\n",
    "        pass\n",
    "\n",
    "    def dot(self, other):\n",
    "        \"\"\"Returns the dot product with another vector\"\"\"\n",
    "        pass\n",
    "\n",
    "    def cross(self, other):\n",
    "        \"\"\"Returns the cross product with another vector\"\"\"\n",
    "        pass\n",
    "\n",
    "    def add(self, other):\n",
    "        \"\"\"Returns the sum with another vector\"\"\"\n",
    "        pass\n",
    "        \n",
    "    def subtract(self, other):\n",
    "        \"\"\"Returns the difference with another vector\"\"\"\n",
    "        pass\n",
    "    \n",
    "    def equals(self, other):\n",
    "        \"\"\"Returns the equality with another vector\"\"\"\n",
    "        pass\n"
   ]
  },
  {
   "cell_type": "markdown",
   "metadata": {
    "slideshow": {
     "slide_type": "notes"
    }
   },
   "source": [
    "## Example: a class for polynomial functions"
   ]
  },
  {
   "cell_type": "markdown",
   "metadata": {
    "slideshow": {
     "slide_type": "notes"
    }
   },
   "source": [
    "Polynomials can be modeled as a class, with a handful of methods and a single attribute - its coefficients."
   ]
  },
  {
   "cell_type": "markdown",
   "metadata": {
    "slideshow": {
     "slide_type": "notes"
    }
   },
   "source": [
    "$f(x)=4x^2-3x+2 \\Longleftrightarrow \\texttt{coeffs = [2, -3, 4]} $"
   ]
  },
  {
   "cell_type": "code",
   "execution_count": 26,
   "metadata": {
    "slideshow": {
     "slide_type": "notes"
    }
   },
   "outputs": [
    {
     "name": "stdout",
     "output_type": "stream",
     "text": [
      "[0, 2]\n",
      "[0, 0.0, 0.0, 0.3333333333333333]\n"
     ]
    }
   ],
   "source": [
    "class Polynomial:\n",
    "    def __init__(self, coeffs):\n",
    "        self.coeffs = coeffs\n",
    "        \n",
    "    def differentiate(self):\n",
    "        coeffs = []\n",
    "        \n",
    "        for deg, coeff in enumerate(self.coeffs):\n",
    "            coeffs.append(coeff*deg)\n",
    "        \n",
    "        return Polynomial(coeffs[1:])\n",
    "    \n",
    "    def integrate(self, constant='C'):\n",
    "        coeffs = [constant]\n",
    "        \n",
    "        for deg, coeff in enumerate(self.coeffs):\n",
    "            coeffs.append(coeff/(deg+1))\n",
    "        \n",
    "        return Polynomial(coeffs)\n",
    "\n",
    "parabola = Polynomial([0,0,1])\n",
    "print(parabola.differentiate().coeffs)\n",
    "print(parabola.integrate(0).coeffs)"
   ]
  },
  {
   "cell_type": "markdown",
   "metadata": {
    "slideshow": {
     "slide_type": "notes"
    }
   },
   "source": [
    "Now, I will create a class `Polynomial` that has an attribute `coeffs`, gives a nice string representation for a polynomial, and can add different polynomials, subtract them, multiply them, integrate them and differentiate them.\n",
    "First, we define the class with the line `class Name:`. Then, we create the constructor with `__init__`. Then, we define two useful operations for polynomial functions; integration and differentiation.\n",
    "However, at this point, all we have really done is wrap some variable, called `coeffs`, in a rather useless class, that does not even validate if it is a valid piece of data to describe what it is supposed to. We do this using magic methods"
   ]
  },
  {
   "cell_type": "markdown",
   "metadata": {
    "slideshow": {
     "slide_type": "slide"
    }
   },
   "source": [
    "## Operator overloading\n",
    "Specify low level behaviour for high level operations.\n",
    "\n",
    "`+`, `-`, `*` etc. are operators.\n",
    "\n",
    "We can specify their behaviour any way we like, using *operator overloading*.\n",
    "\n",
    "In Python, this is called *Magic methods*, other languages have similar functionality."
   ]
  },
  {
   "cell_type": "code",
   "execution_count": 28,
   "metadata": {
    "slideshow": {
     "slide_type": "fragment"
    }
   },
   "outputs": [],
   "source": [
    "# Specifies when another object is added to it using the + operator\n",
    "def __add__(self, other):\n",
    "    # Perform some algorithm\n",
    "    return sum"
   ]
  },
  {
   "cell_type": "code",
   "execution_count": 27,
   "metadata": {
    "slideshow": {
     "slide_type": "fragment"
    }
   },
   "outputs": [],
   "source": [
    "# Specifies what happens when the object is printed\n",
    "def __repr__(self):\n",
    "    return 'some format for printing the object'\n"
   ]
  },
  {
   "cell_type": "code",
   "execution_count": 29,
   "metadata": {
    "slideshow": {
     "slide_type": "fragment"
    }
   },
   "outputs": [],
   "source": [
    "# Specifies the result of calling len() on the object\n",
    "def __len__(self):\n",
    "    return len(self.some_attr)"
   ]
  },
  {
   "cell_type": "markdown",
   "metadata": {
    "slideshow": {
     "slide_type": "notes"
    }
   },
   "source": [
    "If we want to perform some high level operation, like printing an object, then by default the outcome will be pretty ugly. Furthermore, we cannot really perform any operation that we would like to with a function. For this, Python uses something called the Data Model. High level operations, like `print(parabola)`, are implemented in a class with special methods, that can be recognized by double underscores surrounding them. We already saw one example of this, being `__init__`. Let's get an example of this with the class we just wrote."
   ]
  },
  {
   "cell_type": "code",
   "execution_count": null,
   "metadata": {
    "slideshow": {
     "slide_type": "subslide"
    }
   },
   "outputs": [],
   "source": [
    "from math import sqrt\n",
    "\n",
    "class Vector:\n",
    "\n",
    "    def __init__(self, x, y, z):\n",
    "        self.x = x\n",
    "        self.y = y\n",
    "        self.z = z\n",
    "\n",
    "    def __repr__(self):\n",
    "        return f'({self.x}, {self.y}, {self.z})'\n",
    "\n",
    "    def norm(self):\n",
    "        \"\"\"Returns the norm of the vector\"\"\"\n",
    "        return sqrt(self.x**2 + self.y**2 + self.z**2)\n",
    "\n",
    "    def __mul__(self, const):\n",
    "        \"\"\"Return a Vector scaled by a constant\"\"\"\n",
    "        return Vector(self.x * const, \\\n",
    "                self.y * const, \\\n",
    "                self.z * const)\n",
    "\n",
    "    def normalized(self):\n",
    "        \"\"\"Return the Vector, but normalized\"\"\"\n",
    "        return self.scale(1/self.norm())\n",
    "\n",
    "    def __matmul__(self, other):\n",
    "        \"\"\"Returns the dot product with another vector\"\"\"\n",
    "        return self.x * other.x + \\\n",
    "                self.y * other.y + \\\n",
    "                self.z * other.z\n",
    "\n",
    "    def cross(self, other):\n",
    "        \"\"\"Returns the cross product with another vector\"\"\"\n",
    "        return Vector(self.y*other.z - self.z*other.y, \\\n",
    "                self.z*other.x - self.x*other.z, \\\n",
    "                self.x*other.y - self.y*other.x)\n",
    "\n",
    "\n",
    "    def __add__(self, other):\n",
    "        \"\"\"Returns the sum with another vector\"\"\"\n",
    "        return Vector(self.x + other.x, \\\n",
    "                self.y + other.y, \\\n",
    "                self.z + other.z)\n",
    "\n",
    "    def __neg__(self):\n",
    "        \"\"\"Returns the additive inverse of the vector\"\"\"\n",
    "        return Vector(-self.x, -self.y, -self.z)\n",
    "    \n",
    "    def __sub__(self, other):\n",
    "        \"\"\"Returns the difference with another vector\"\"\"\n",
    "        return self + -other\n",
    "\n",
    "    def __eq__(self, other):\n",
    "        \"\"\"Returns the equality with another vector\"\"\"\n",
    "        return self.x == other.x and self.y == other.y and self.z == other.z\n",
    "\n"
   ]
  },
  {
   "cell_type": "code",
   "execution_count": 7,
   "metadata": {
    "slideshow": {
     "slide_type": "slide"
    }
   },
   "outputs": [
    {
     "name": "stdout",
     "output_type": "stream",
     "text": [
      "Dot product: 7\n",
      "Cross product: (4, 1, -2)\n",
      "Addition: (2, 2, 5)\n"
     ]
    }
   ],
   "source": [
    "from vector import Vector\n",
    "u = Vector(1, 2, 3)\n",
    "v = Vector(1, 0, 2)\n",
    "\n",
    "print('Dot product:', u@v)\n",
    "print('Cross product:', u.cross(v))\n",
    "print('Addition:', u + v)"
   ]
  },
  {
   "cell_type": "markdown",
   "metadata": {
    "slideshow": {
     "slide_type": "notes"
    }
   },
   "source": [
    "## Implemented low-level behaviour"
   ]
  },
  {
   "cell_type": "code",
   "execution_count": 38,
   "metadata": {
    "slideshow": {
     "slide_type": "notes"
    }
   },
   "outputs": [
    {
     "name": "stdout",
     "output_type": "stream",
     "text": [
      "parabola:\t\t\t\t x^2\n",
      "line:\t\t\t\t\t x\n",
      "parabola + line:\t\t\t x^2 + x\n",
      "lenght (i.e. order) of parabola + line:\t 3\n",
      "Antiderivative of parabola + line:\t 0.333x^3 + 0.5x^2 + C\n"
     ]
    }
   ],
   "source": [
    "from polynomial import Polynomial\n",
    "\n",
    "parabola = Polynomial([0,0,1])\n",
    "line = Polynomial([0,1])\n",
    "\n",
    "print('parabola:\\t\\t\\t\\t', parabola)\n",
    "print('line:\\t\\t\\t\\t\\t', line)\n",
    "print('parabola + line:\\t\\t\\t', parabola + line)\n",
    "print('lenght (i.e. order) of parabola + line:\\t', len(parabola + line))\n",
    "print('Antiderivative of parabola + line:\\t', (parabola + line).integrate())"
   ]
  },
  {
   "cell_type": "markdown",
   "metadata": {
    "slideshow": {
     "slide_type": "notes"
    }
   },
   "source": [
    "In this case, I implemented a few magic methods, that lead to some nicer behaviour. Now, our class actually starts to look like a proper datatype. You could add additional functionality to this, like multiplication (division is not generally possible though). We also make sure that a constructed polynomial has coeffs that are valid to construct a list of coefficients. The code can be found in `polynomial.py`."
   ]
  },
  {
   "cell_type": "markdown",
   "metadata": {
    "slideshow": {
     "slide_type": "slide"
    }
   },
   "source": [
    "# Some terminology, to recap\n",
    "* Object: collection of data and functionality, instance of a class\n",
    "* Class: blueprint of an object, defining its behaviour\n",
    "* Constructor: method that creates an object (`__init__()`)\n",
    "* Methods (member functions): functions acting on an object\n",
    "* Attributes (fields, members): data associated to an object\n",
    "* `self` (`this`): the name that a class uses to reference itself\n",
    "* Abstraction: hide irrelevant implementation details to the user\n",
    "* Encapsulation: hide irrelevant data from the user\n",
    "* Inheritance: share code between general and more specialised classes"
   ]
  },
  {
   "cell_type": "markdown",
   "metadata": {
    "slideshow": {
     "slide_type": "slide"
    }
   },
   "source": [
    "## Exercise: solar system in OOP Python\n",
    "In simulations, objects can be very useful. Here, we will create a numerical simulation of some orbital mechanics.\n",
    "\n",
    "We have created the interface to two classes, `Universe` and `Planet`, and a short script that creates\n",
    "a few planets and plots their trajectories over time.\n",
    "\n",
    "**Your task**: finish the implementation of the `Universe` class, so that the script runs correctly.\n",
    "\n",
    "http://tinyurl.com/y23rk32o\n",
    "\n",
    "### Hints:\n",
    "* To store positions, velocities etc., we use the Vector class we created earlier\n",
    "* To store planets and forces, use lists or dictionaries \n",
    "* You have all written a solar system simulation before, use that code if you need a reminder\n",
    "\n",
    "Remember from dynamics: \n",
    "\n",
    "$$\n",
    "    \\vec{F}_{ij} = -G\\frac{m_i m_j}{\\|\\vec{r}_i - \\vec{r}_j\\|^3}(\\vec{r}_i - \\vec{r}_j)\n",
    "$$"
   ]
  },
  {
   "cell_type": "code",
   "execution_count": null,
   "metadata": {
    "slideshow": {
     "slide_type": "slide"
    }
   },
   "outputs": [],
   "source": [
    "from math import sqrt\n",
    "import matplotlib.pyplot as plt\n",
    "from scipy.constants import G, au\n",
    "from vector import Vector\n",
    "\n",
    "class Universe:\n",
    "\n",
    "    def __init__(self, dt=60*60*24):\n",
    "        \"\"\"Initialises an empty universe with default time steps of a day\"\"\"\n",
    "        pass\n",
    "\n",
    "    def add_body(self, planet):\n",
    "        \"\"\"Add a body to the internal collection of planets\"\"\"\n",
    "        pass\n",
    "\n",
    "    def forces(self):\n",
    "        \"\"\"Computes the forces on all planets, and returns a collection\n",
    "        of these forces as Vectors\"\"\"\n",
    "        pass\n",
    "    \n",
    "    def update(self):\n",
    "        \"\"\"Updates positions and velocities to the next time point\"\"\"\n",
    "        pass\n",
    "\n",
    "class Planet:\n",
    "    def __init__(self, name, mass, position, velocity):\n",
    "        self.name = name\n",
    "        self.mass = mass\n",
    "        self.position = Vector(*position)\n",
    "        self.velocity = Vector(*velocity)\n",
    "\n",
    "    def __repr__(self):\n",
    "        return f'Name: {self.name}\\nMass: {self.mass} kg\\nPosition: ' + \\\n",
    "                f'{tuple(self.position)}\\nVelocity: {tuple(self.velocity)}'\n",
    "\n",
    "\n",
    "\n",
    "# Demo\n",
    "M_sun = 2e30\n",
    "M_earth = 5.972e24\n",
    "M_mars = 6.39e23\n",
    "\n",
    "universe = Universe()\n",
    "earth = Planet('Earth', M_earth, (au, 0, 0), (0, sqrt(G*M_sun / au), 0))\n",
    "sun = Planet('Sun', M_sun, (0, 0, 0), (0, 0, 0))\n",
    "mars = Planet('Mars', M_mars, (1.524*au, 0, 0), (0, 24131, 0))\n",
    "\n",
    "universe.add_body(earth)\n",
    "universe.add_body(sun)\n",
    "universe.add_body(mars)\n",
    "\n",
    "r_sun = []\n",
    "r_earth = []\n",
    "r_mars = []\n",
    "\n",
    "for _ in range(700):\n",
    "    r_sun.append(sun.position)\n",
    "    r_earth.append(earth.position)\n",
    "    r_mars.append(mars.position)\n",
    "\n",
    "    universe.update()\n",
    "\n",
    "plt.figure()\n",
    "plt.plot([r.x for r in r_sun], [r.y for r in r_sun], 'o', label='Sun trajectory')\n",
    "plt.plot([r.x for r in r_earth], [r.y for r in r_earth], label='Earth trajectory')\n",
    "plt.plot([r.x for r in r_mars], [r.y for r in r_mars], label='Mars trajectory')\n",
    "plt.legend()\n",
    "plt.show()"
   ]
  }
 ],
 "metadata": {
  "celltoolbar": "Slideshow",
  "hide_input": false,
  "kernelspec": {
   "display_name": "Python 3",
   "language": "python",
   "name": "python3"
  },
  "language_info": {
   "codemirror_mode": {
    "name": "ipython",
    "version": 3
   },
   "file_extension": ".py",
   "mimetype": "text/x-python",
   "name": "python",
   "nbconvert_exporter": "python",
   "pygments_lexer": "ipython3",
   "version": "3.7.2"
  }
 },
 "nbformat": 4,
 "nbformat_minor": 2
}
