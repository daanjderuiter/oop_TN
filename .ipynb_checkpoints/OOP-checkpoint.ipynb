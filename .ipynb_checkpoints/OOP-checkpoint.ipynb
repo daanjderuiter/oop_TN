{
 "cells": [
  {
   "cell_type": "markdown",
   "metadata": {
    "slideshow": {
     "slide_type": "slide"
    }
   },
   "source": [
    "# Object oriented programming in Python\n",
    "![title](http://www.tutorialink.com/img/cpp/oop-paradigm.png)"
   ]
  },
  {
   "cell_type": "markdown",
   "metadata": {
    "slideshow": {
     "slide_type": "slide"
    }
   },
   "source": [
    "# What is OOP?\n",
    "* Objects: comparable to variables, may contain both data and logic\n",
    "* Classes: comparable to datatypes, describe how an object behaves\n",
    "* Attributes: variables describing the data corresponding to an object\n",
    "* Methods: functions describing the logic corresponding to an object\n",
    "* `self`: an object often accesses and modifies attributes associated with it, through accessing the special `self` object"
   ]
  },
  {
   "cell_type": "markdown",
   "metadata": {
    "slideshow": {
     "slide_type": "fragment"
    }
   },
   "source": [
    "# Why OOP?\n",
    "* Useful abstraction\n",
    "* Maintainable code\n",
    "* Extensible code"
   ]
  },
  {
   "cell_type": "markdown",
   "metadata": {
    "slideshow": {
     "slide_type": "fragment"
    }
   },
   "source": [
    "## Class\n",
    "* Abstract representation of a certain type of data\n",
    "* Defines the attributes associated with that class\n",
    "* Defines functions called methods that can act on that class"
   ]
  },
  {
   "cell_type": "markdown",
   "metadata": {
    "slideshow": {
     "slide_type": "fragment"
    }
   },
   "source": [
    "## Object\n",
    "* Implements the class, assigning values to the attributes\n",
    "* A large amount of data structures in any programming context can be described as an object\n",
    "* In physics, objects can be useful e.g. for objects in a simulation"
   ]
  },
  {
   "cell_type": "markdown",
   "metadata": {
    "slideshow": {
     "slide_type": "notes"
    }
   },
   "source": [
    "Object-oriented programming revolves around the notion of objects, which are constructs that may have associated data, which are called attributes, and logical functions, which are called methods. An object is an instance of a class. A class describes the functioning of an object, and is what you actually write. A class can be compared to a data type. An object is an instance of a class, and implements it. All but a few data types you are likely familiar with, are classes under the hood; for example, a variable `arr = np.ndarray([1, 2, 3])` is an instance of the class `np.ndarray`."
   ]
  },
  {
   "cell_type": "markdown",
   "metadata": {
    "slideshow": {
     "slide_type": "slide"
    }
   },
   "source": [
    "## Parts of a class"
   ]
  },
  {
   "cell_type": "markdown",
   "metadata": {
    "slideshow": {
     "slide_type": "fragment"
    }
   },
   "source": [
    "* Attributes representing the state of the class\n",
    "* Methods that define actions you can perform on that class\n",
    "* A constructor that is called when you create the object. In Python, it is called `__init__()`."
   ]
  },
  {
   "cell_type": "code",
   "execution_count": 25,
   "metadata": {
    "slideshow": {
     "slide_type": "fragment"
    }
   },
   "outputs": [
    {
     "name": "stdout",
     "output_type": "stream",
     "text": [
      "lorem ipsum\n"
     ]
    }
   ],
   "source": [
    "class Foo:\n",
    "    def __init__(self, bar):\n",
    "        self.bar = bar\n",
    "    \n",
    "    def baz(self):\n",
    "        print(self.bar)\n",
    "        \n",
    "foo = Foo('lorem ipsum')\n",
    "foo.baz()"
   ]
  },
  {
   "cell_type": "markdown",
   "metadata": {
    "slideshow": {
     "slide_type": "notes"
    }
   },
   "source": [
    "A class may data and code. The data are attributes, like `bar` in the example. The code are methods, like `baz` in the example.\n",
    "\n",
    "When accessing its own attributes or methods within a method, the method references the object it is a part of, called the `self` in Python. In Python, as well as some other languages, every method requires that it has at least `self` as an argument, which is the first argument and is not explicitly stated when calling the method.\n",
    "\n",
    "To make your own life easier, please follow Python's naming conventions; classes are named as `MyClass`, methods, functions and variables are named as `my_method`. See also PEP 8 (PEPs are Python Enhancement Proposals).\n",
    "Don't create classes for everyting. If your class has two methods, and one of them is `__init__` (like in this example), then that probably shouldn't be a class. Just create a method instead."
   ]
  },
  {
   "cell_type": "markdown",
   "metadata": {
    "slideshow": {
     "slide_type": "slide"
    }
   },
   "source": [
    "## Example: a class for polynomial functions"
   ]
  },
  {
   "cell_type": "markdown",
   "metadata": {
    "slideshow": {
     "slide_type": "fragment"
    }
   },
   "source": [
    "Polynomials can be modeled as a class, with a handful of methods and a single attribute - its coefficients."
   ]
  },
  {
   "cell_type": "markdown",
   "metadata": {
    "slideshow": {
     "slide_type": "fragment"
    }
   },
   "source": [
    "$f(x)=4x^2-3x+2 \\Longleftrightarrow \\texttt{coeffs = [2, -3, 4]} $"
   ]
  },
  {
   "cell_type": "code",
   "execution_count": 26,
   "metadata": {
    "slideshow": {
     "slide_type": "fragment"
    }
   },
   "outputs": [
    {
     "name": "stdout",
     "output_type": "stream",
     "text": [
      "[0, 2]\n",
      "[0, 0.0, 0.0, 0.3333333333333333]\n"
     ]
    }
   ],
   "source": [
    "class Polynomial:\n",
    "    def __init__(self, coeffs):\n",
    "        self.coeffs = coeffs\n",
    "        \n",
    "    def differentiate(self):\n",
    "        coeffs = []\n",
    "        \n",
    "        for deg, coeff in enumerate(self.coeffs):\n",
    "            coeffs.append(coeff*deg)\n",
    "        \n",
    "        return Polynomial(coeffs[1:])\n",
    "    \n",
    "    def integrate(self, constant='C'):\n",
    "        coeffs = [constant]\n",
    "        \n",
    "        for deg, coeff in enumerate(self.coeffs):\n",
    "            coeffs.append(coeff/(deg+1))\n",
    "        \n",
    "        return Polynomial(coeffs)\n",
    "\n",
    "parabola = Polynomial([0,0,1])\n",
    "print(parabola.differentiate().coeffs)\n",
    "print(parabola.integrate(0).coeffs)"
   ]
  },
  {
   "cell_type": "markdown",
   "metadata": {
    "slideshow": {
     "slide_type": "notes"
    }
   },
   "source": [
    "Now, I will create a class `Polynomial` that has an attribute `coeffs`, gives a nice string representation for a polynomial, and can add different polynomials, subtract them, multiply them, integrate them and differentiate them.\n",
    "First, we define the class with the line `class Name:`. Then, we create the constructor with `__init__`. Then, we define two useful operations for polynomial functions; integration and differentiation.\n",
    "However, at this point, all we have really done is wrap some variable, called `coeffs`, in a rather useless class, that does not even validate if it is a valid piece of data to describe what it is supposed to. We do this using magic methods"
   ]
  },
  {
   "cell_type": "markdown",
   "metadata": {
    "slideshow": {
     "slide_type": "slide"
    }
   },
   "source": [
    "## Magic methods\n",
    "Specify low level behaviour for high level operations."
   ]
  },
  {
   "cell_type": "code",
   "execution_count": 27,
   "metadata": {
    "slideshow": {
     "slide_type": "fragment"
    }
   },
   "outputs": [],
   "source": [
    "# Specifies what happens when the object is printed\n",
    "def __repr__(self):\n",
    "    return 'some format for printing the object'\n"
   ]
  },
  {
   "cell_type": "code",
   "execution_count": 28,
   "metadata": {
    "slideshow": {
     "slide_type": "fragment"
    }
   },
   "outputs": [],
   "source": [
    "# Specifies when another object is added to it using the + operator\n",
    "def __add__(self, other):\n",
    "    # Perform some algorithm\n",
    "    return sum"
   ]
  },
  {
   "cell_type": "code",
   "execution_count": 29,
   "metadata": {
    "slideshow": {
     "slide_type": "fragment"
    }
   },
   "outputs": [],
   "source": [
    "# Specifies the result of calling len() on the object\n",
    "def __len__(self):\n",
    "    return len(self.some_attr)"
   ]
  },
  {
   "cell_type": "markdown",
   "metadata": {
    "slideshow": {
     "slide_type": "notes"
    }
   },
   "source": [
    "If we want to perform some high level operation, like printing an object, then by default the outcome will be pretty ugly. Furthermore, we cannot really perform any operation that we would like to with a function. For this, Python uses something called the Data Model. High level operations, like `print(parabola)`, are implemented in a class with special methods, that can be recognized by double underscores surrounding them. We already saw one example of this, being `__init__`. Let's get an example of this with the class we just wrote."
   ]
  },
  {
   "cell_type": "markdown",
   "metadata": {
    "slideshow": {
     "slide_type": "slide"
    }
   },
   "source": [
    "## Implemented low-level behaviour"
   ]
  },
  {
   "cell_type": "code",
   "execution_count": 38,
   "metadata": {
    "slideshow": {
     "slide_type": "fragment"
    }
   },
   "outputs": [
    {
     "name": "stdout",
     "output_type": "stream",
     "text": [
      "parabola:\t\t\t\t x^2\n",
      "line:\t\t\t\t\t x\n",
      "parabola + line:\t\t\t x^2 + x\n",
      "lenght (i.e. order) of parabola + line:\t 3\n",
      "Antiderivative of parabola + line:\t 0.333x^3 + 0.5x^2 + C\n"
     ]
    }
   ],
   "source": [
    "from polynomial import Polynomial\n",
    "\n",
    "parabola = Polynomial([0,0,1])\n",
    "line = Polynomial([0,1])\n",
    "\n",
    "print('parabola:\\t\\t\\t\\t', parabola)\n",
    "print('line:\\t\\t\\t\\t\\t', line)\n",
    "print('parabola + line:\\t\\t\\t', parabola + line)\n",
    "print('lenght (i.e. order) of parabola + line:\\t', len(parabola + line))\n",
    "print('Antiderivative of parabola + line:\\t', (parabola + line).integrate())"
   ]
  },
  {
   "cell_type": "markdown",
   "metadata": {
    "slideshow": {
     "slide_type": "notes"
    }
   },
   "source": [
    "In this case, I implemented a few magic methods, that lead to some nicer behaviour. Now, our class actually starts to look like a proper datatype. You could add additional functionality to this, like multiplication (division is not generally possible though). We also make sure that a constructed polynomial has coeffs that are valid to construct a list of coefficients. The code can be found in `polynomial.py`."
   ]
  },
  {
   "cell_type": "markdown",
   "metadata": {
    "slideshow": {
     "slide_type": "slide"
    }
   },
   "source": [
    "## Inheritance\n",
    "* Classes can also be a subset of other classes, as a \"is-a-type-of\" hierarchy.\n",
    "* Inherited classes are denoted by parentheses in Python\n",
    "* Child classes have all the attributes and methods of the parent class"
   ]
  },
  {
   "cell_type": "code",
   "execution_count": 37,
   "metadata": {
    "slideshow": {
     "slide_type": "fragment"
    }
   },
   "outputs": [
    {
     "name": "stdout",
     "output_type": "stream",
     "text": [
      "John Smith\n",
      "Daan de Ruiter\n"
     ]
    }
   ],
   "source": [
    "class Person:\n",
    "    def __init__(self, firstname, lastname, age):\n",
    "        self.firstname = firstname\n",
    "        self.lastname = lastname\n",
    "        self.age = age\n",
    "        \n",
    "    def name(self):\n",
    "        print(self.firstname, self.lastname)\n",
    "        \n",
    "class Student(Person):\n",
    "    def __init__(self, firstname, lastname, age, programme):\n",
    "        self.programme = programme\n",
    "        self.firstname = firstname\n",
    "        self.lastname = lastname\n",
    "        self.age = age\n",
    "        \n",
    "p1 = Person('John', 'Smith', 42)\n",
    "p2 = Student('Daan', 'de Ruiter', 21, 'Applied Physics')\n",
    "\n",
    "p1.name()\n",
    "p2.name()"
   ]
  },
  {
   "cell_type": "markdown",
   "metadata": {
    "slideshow": {
     "slide_type": "slide"
    }
   },
   "source": [
    "## Multiple inheritance\n",
    "A class may inherit from multiple classes at once"
   ]
  },
  {
   "cell_type": "code",
   "execution_count": 35,
   "metadata": {
    "slideshow": {
     "slide_type": "fragment"
    }
   },
   "outputs": [
    {
     "name": "stdout",
     "output_type": "stream",
     "text": [
      "I study Applied Physics\n",
      "My favourite programming language is Python\n"
     ]
    }
   ],
   "source": [
    "class Student:\n",
    "    def __init__(self, programme):\n",
    "        self.programme = programme\n",
    "    \n",
    "    def study_programme(self):\n",
    "        print('I study', self.programme)\n",
    "        \n",
    "class Programmer:\n",
    "    def __init__(self, language):\n",
    "        self.language = language\n",
    "        \n",
    "    def fav_language(self):\n",
    "        print('My favourite programming language is', self.language)\n",
    "        \n",
    "class Nerd(Student, Programmer):\n",
    "    def __init__(self, programme, language):\n",
    "        self.programme = programme\n",
    "        self.language = language\n",
    "\n",
    "daan = Nerd('Applied Physics', 'Python')\n",
    "daan.study_programme()\n",
    "daan.fav_language()"
   ]
  },
  {
   "cell_type": "markdown",
   "metadata": {
    "slideshow": {
     "slide_type": "slide"
    }
   },
   "source": [
    "## Example 2: polynomial functions as a subclass\n",
    "Polynomial functions are not all that exciting"
   ]
  },
  {
   "cell_type": "code",
   "execution_count": null,
   "metadata": {
    "slideshow": {
     "slide_type": "fragment"
    }
   },
   "outputs": [],
   "source": [
    "# TODO: implement parent class Function, child classes Exponential, Log,\n",
    "# maybe products, divisions of functions, chain rule etc for division"
   ]
  },
  {
   "cell_type": "markdown",
   "metadata": {
    "slideshow": {
     "slide_type": "slide"
    }
   },
   "source": [
    "## Exercise: solar system in OOP Python\n",
    "In simulations, objects can be very useful. Here, we will create a numerical simulation of some orbital mechanics.\n",
    "\n",
    "Create two classes, `Universe` and `Planet`, and think about what would be sensible attributes and methods for both. Then, create a script that can create celestial bodies, and plots their trajectories over time using `matplotlib`.\n",
    "\n",
    "![title](https://imgs.xkcd.com/comics/orbital_mechanics.png)"
   ]
  }
 ],
 "metadata": {
  "celltoolbar": "Slideshow",
  "kernelspec": {
   "display_name": "Python 3",
   "language": "python",
   "name": "python3"
  },
  "language_info": {
   "codemirror_mode": {
    "name": "ipython",
    "version": 3
   },
   "file_extension": ".py",
   "mimetype": "text/x-python",
   "name": "python",
   "nbconvert_exporter": "python",
   "pygments_lexer": "ipython3",
   "version": "3.7.2"
  }
 },
 "nbformat": 4,
 "nbformat_minor": 2
}
